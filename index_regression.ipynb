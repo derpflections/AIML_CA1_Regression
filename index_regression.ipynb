{
 "cells": [
  {
   "attachments": {},
   "cell_type": "markdown",
   "metadata": {},
   "source": [
    "<hr>\n",
    "\n",
    "# ST1511 AI and Machine Learning CA1 Assignment (Regression)\n",
    "<hr>\n",
    "\n",
    "Name: Lee Hong Yi <br>\n",
    "Class: DAAA/FT/2A/05 <br>\n",
    "Admin Number: p2223010 <br>"
   ]
  },
  {
   "attachments": {},
   "cell_type": "markdown",
   "metadata": {},
   "source": [
    "__Objective:__ <br>\n",
    "Predict the price of a house in the United States based on various factors.\n",
    "\n",
    "__Background Information:__<br>\n",
    "The price of a house is based on several factors, such as it's location, area, and amenities, such as bedrooms, toilets, and renovation status.\n",
    "\n",
    "\n",
    "__Additional Information:__ <br>"
   ]
  },
  {
   "attachments": {},
   "cell_type": "markdown",
   "metadata": {},
   "source": [
    "<hr>\n",
    "<font size = 5>Importing Libraries</font>\n",
    "<hr>"
   ]
  },
  {
   "cell_type": "code",
   "execution_count": null,
   "metadata": {},
   "outputs": [],
   "source": [
    "import numpy as np\n",
    "import pandas as pd\n",
    "import seaborn as sns\n",
    "from sklearn import metrics\n",
    "import plotly.express as px\n",
    "import matplotlib.pyplot as plt\n",
    "from sklearn.preprocessing import StandardScaler\n",
    "from sklearn.ensemble import RandomForestRegressor\n",
    "from sklearn.metrics import mean_absolute_percentage_error, make_scorer\n",
    "from sklearn.metrics import accuracy_score, confusion_matrix, classification_report\n",
    "from sklearn.model_selection import ShuffleSplit, GridSearchCV, RandomizedSearchCV, train_test_split\n",
    "\n",
    "from warnings import simplefilter\n",
    "\n",
    "\n",
    "simplefilter(action='ignore', category=FutureWarning)"
   ]
  },
  {
   "attachments": {},
   "cell_type": "markdown",
   "metadata": {},
   "source": [
    "<font size = 5> Preparing data.</font> <br>\n",
    "\n",
    "Since the data has already been collected, we can move straight onto preparing the data for training by the model."
   ]
  },
  {
   "cell_type": "code",
   "execution_count": null,
   "metadata": {},
   "outputs": [],
   "source": [
    "original_data = pd.read_csv(\"./housing_dataset.csv\")\n",
    "eda_data = original_data.copy()\n"
   ]
  },
  {
   "cell_type": "code",
   "execution_count": null,
   "metadata": {},
   "outputs": [],
   "source": [
    "eda_data.describe()"
   ]
  },
  {
   "cell_type": "code",
   "execution_count": null,
   "metadata": {},
   "outputs": [],
   "source": [
    "display(eda_data.value_counts(\"City\"))\n",
    "display(eda_data.value_counts(\"No. of Bedrooms\"))\n",
    "display(eda_data.value_counts(\"No. of Toilets\"))\n",
    "display(eda_data.value_counts(\"Stories\"))"
   ]
  },
  {
   "cell_type": "code",
   "execution_count": null,
   "metadata": {},
   "outputs": [],
   "source": [
    "fig, ax = plt.subplots(1,5, figsize = (25,10))\n",
    "\n",
    "sns.boxplot(data = eda_data, ax = ax[0], y = \"Price ($)\")\n",
    "sns.boxplot(data = eda_data, ax = ax[1], y = \"House Area (sqm)\")\n",
    "sns.boxplot(data = eda_data, ax = ax[2], y = \"No. of Bedrooms\")\n",
    "sns.boxplot(data = eda_data, ax = ax[3], y = \"No. of Toilets\")\n",
    "sns.boxplot(data = eda_data, ax = ax[4], y = \"Stories\")\n",
    "\n",
    "plt.show()"
   ]
  },
  {
   "cell_type": "code",
   "execution_count": null,
   "metadata": {},
   "outputs": [],
   "source": [
    "fig, ax = plt.subplots(figsize = (30,10))\n",
    "fig = sns.kdeplot(data = eda_data[eda_data[\"City\"] == \"New York\"][\"Price ($)\"], color = \"black\", label = \"New York\")\n",
    "fig2 = sns.kdeplot(data = eda_data[eda_data[\"City\"] == \"Seattle\"][\"Price ($)\"], color = \"red\", label = \"Seattle\")\n",
    "fig3 = sns.kdeplot(data = eda_data[eda_data[\"City\"] == \"Boston\"][\"Price ($)\"], color = \"blue\", label = \"Boston\")\n",
    "fig4 = sns.kdeplot(data = eda_data[eda_data[\"City\"] == \"Denver\"][\"Price ($)\"], color = \"green\", label = \"Denver\")\n",
    "fig5 = sns.kdeplot(data = eda_data[eda_data[\"City\"] == \"Chicago\"][\"Price ($)\"], color = \"orange\", label = \"Chicago\")\n",
    "plt.suptitle(\"Distribution of price based on city (Hundred Thousand USD)\")\n",
    "ax.legend()\n",
    "plt.show()\n"
   ]
  },
  {
   "attachments": {},
   "cell_type": "markdown",
   "metadata": {},
   "source": [
    "From the above graph, we can see that the city of Denver has houses that are higher on average, as it's price distribution curve is skewed further to the right as compared to the other cities."
   ]
  },
  {
   "cell_type": "code",
   "execution_count": null,
   "metadata": {},
   "outputs": [],
   "source": [
    "fig, ax = plt.subplots(figsize = (30,10))\n",
    "fig = sns.kdeplot(data = eda_data[eda_data[\"City\"] == \"New York\"][\"House Area (sqm)\"], color = \"black\", label = \"New York\")\n",
    "fig2 = sns.kdeplot(data = eda_data[eda_data[\"City\"] == \"Seattle\"][\"House Area (sqm)\"], color = \"red\", label = \"Seattle\")\n",
    "fig3 = sns.kdeplot(data = eda_data[eda_data[\"City\"] == \"Boston\"][\"House Area (sqm)\"], color = \"blue\", label = \"Boston\")\n",
    "fig4 = sns.kdeplot(data = eda_data[eda_data[\"City\"] == \"Denver\"][\"House Area (sqm)\"], color = \"green\", label = \"Denver\")\n",
    "fig5 = sns.kdeplot(data = eda_data[eda_data[\"City\"] == \"Chicago\"][\"House Area (sqm)\"], color = \"orange\", label = \"Chicago\")\n",
    "plt.suptitle(\"Distribution of house size in square meters\")\n",
    "ax.legend()\n",
    "plt.show()"
   ]
  },
  {
   "attachments": {},
   "cell_type": "markdown",
   "metadata": {},
   "source": [
    "From the above graph, we can also see that the city of Denver has houses that are larger on average, as it's distribution curve is skewed further to the right, while also having a lower proportion below ~400sqm as compared to other cities. In addition, the city of New York has more houses that are around 300 sqm, given that the graph has a higher peak at that point on the scale. "
   ]
  },
  {
   "attachments": {},
   "cell_type": "markdown",
   "metadata": {},
   "source": [
    "Creating a correlogram to highlight the most correlated variables in the data table."
   ]
  },
  {
   "cell_type": "code",
   "execution_count": null,
   "metadata": {},
   "outputs": [],
   "source": [
    "plt.figure(figsize = (16,6))\n",
    "sns.heatmap(eda_data.corr(), annot = True, linewidths= 0.5)\n",
    "plt.show()"
   ]
  },
  {
   "attachments": {},
   "cell_type": "markdown",
   "metadata": {},
   "source": [
    "<font size = 5>Feature Engineering</font>"
   ]
  },
  {
   "attachments": {},
   "cell_type": "markdown",
   "metadata": {},
   "source": [
    "Using the \"House Area (sqm)\" column, as well as the \"Price ($)\" column to calculate a new feature, called \"Price / PSM\"."
   ]
  },
  {
   "cell_type": "code",
   "execution_count": null,
   "metadata": {},
   "outputs": [],
   "source": [
    "for row in analysis_data.itertuples():\n",
    "    print(row)\n",
    "    print(row[1])\n",
    "# analysis_data[\"psm_price\"] = analysis_data[\"House Area (sqm)\"] / analysis_data[\"Price($)\"]"
   ]
  },
  {
   "attachments": {},
   "cell_type": "markdown",
   "metadata": {},
   "source": [
    "<font size = 5>Preparing the data for training.</font>"
   ]
  },
  {
   "cell_type": "code",
   "execution_count": null,
   "metadata": {},
   "outputs": [],
   "source": [
    "\n",
    "target_data = pd.DataFrame(original_data[\"Price ($)\"])\n",
    "analysis_data = original_data.drop(columns = [\"House ID\",'Price ($)'])\n",
    "\n",
    "display(analysis_data.head())\n",
    "display(target_data.head())\n",
    "\n",
    "analysis_data = pd.get_dummies(analysis_data)\n",
    "display(analysis_data.head())\n",
    "X_train, X_test, y_train, y_test = train_test_split(analysis_data, target_data, test_size=0.3, random_state=42)"
   ]
  },
  {
   "attachments": {},
   "cell_type": "markdown",
   "metadata": {},
   "source": [
    "<font size = 5>Choosing / training a model</font>"
   ]
  },
  {
   "cell_type": "code",
   "execution_count": null,
   "metadata": {},
   "outputs": [],
   "source": [
    "steps = [(\"scaler\", StandardScaler()),\n",
    "         (\"\", Lasso(alpha=0.5))]"
   ]
  },
  {
   "attachments": {},
   "cell_type": "markdown",
   "metadata": {},
   "source": [
    "<font size = 5 >Evaluating the model</font>"
   ]
  }
 ],
 "metadata": {
  "kernelspec": {
   "display_name": "base",
   "language": "python",
   "name": "python3"
  },
  "language_info": {
   "codemirror_mode": {
    "name": "ipython",
    "version": 3
   },
   "file_extension": ".py",
   "mimetype": "text/x-python",
   "name": "python",
   "nbconvert_exporter": "python",
   "pygments_lexer": "ipython3",
   "version": "3.9.13"
  },
  "orig_nbformat": 4
 },
 "nbformat": 4,
 "nbformat_minor": 2
}
